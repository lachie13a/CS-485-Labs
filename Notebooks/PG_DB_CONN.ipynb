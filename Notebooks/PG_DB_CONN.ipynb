{
 "cells": [
  {
   "cell_type": "markdown",
   "id": "4dac6d90",
   "metadata": {},
   "source": [
    "This is code to enable us to connect to Postgres from Python. "
   ]
  },
  {
   "cell_type": "markdown",
   "id": "afeab676",
   "metadata": {},
   "source": [
    "First, need to have the proper library installed. "
   ]
  },
  {
   "cell_type": "code",
   "execution_count": 5,
   "id": "54c3be09",
   "metadata": {},
   "outputs": [
    {
     "name": "stdout",
     "output_type": "stream",
     "text": [
      "Requirement already satisfied: psycopg2 in ./.venv/lib/python3.13/site-packages (2.9.10)\n",
      "Note: you may need to restart the kernel to use updated packages.\n",
      "Collecting pandas\n",
      "  Downloading pandas-2.3.3-cp313-cp313-macosx_10_13_x86_64.whl.metadata (91 kB)\n",
      "Collecting numpy>=1.26.0 (from pandas)\n",
      "  Using cached numpy-2.3.3-cp313-cp313-macosx_14_0_x86_64.whl.metadata (62 kB)\n",
      "Requirement already satisfied: python-dateutil>=2.8.2 in ./.venv/lib/python3.13/site-packages (from pandas) (2.9.0.post0)\n",
      "Collecting pytz>=2020.1 (from pandas)\n",
      "  Using cached pytz-2025.2-py2.py3-none-any.whl.metadata (22 kB)\n",
      "Collecting tzdata>=2022.7 (from pandas)\n",
      "  Using cached tzdata-2025.2-py2.py3-none-any.whl.metadata (1.4 kB)\n",
      "Requirement already satisfied: six>=1.5 in ./.venv/lib/python3.13/site-packages (from python-dateutil>=2.8.2->pandas) (1.17.0)\n",
      "Downloading pandas-2.3.3-cp313-cp313-macosx_10_13_x86_64.whl (11.5 MB)\n",
      "\u001b[2K   \u001b[90m━━━━━━━━━━━━━━━━━━━━━━━━━━━━━━━━━━━━━━━━\u001b[0m \u001b[32m11.5/11.5 MB\u001b[0m \u001b[31m8.7 MB/s\u001b[0m  \u001b[33m0:00:01\u001b[0m eta \u001b[36m0:00:01\u001b[0m\n",
      "\u001b[?25hUsing cached numpy-2.3.3-cp313-cp313-macosx_14_0_x86_64.whl (6.6 MB)\n",
      "Using cached pytz-2025.2-py2.py3-none-any.whl (509 kB)\n",
      "Using cached tzdata-2025.2-py2.py3-none-any.whl (347 kB)\n",
      "Installing collected packages: pytz, tzdata, numpy, pandas\n",
      "\u001b[2K   \u001b[90m━━━━━━━━━━━━━━━━━━━━━━━━━━━━━━━━━━━━━━━━\u001b[0m \u001b[32m4/4\u001b[0m [pandas]2m3/4\u001b[0m [pandas]\n",
      "\u001b[1A\u001b[2KSuccessfully installed numpy-2.3.3 pandas-2.3.3 pytz-2025.2 tzdata-2025.2\n",
      "Note: you may need to restart the kernel to use updated packages.\n"
     ]
    }
   ],
   "source": [
    "%pip install psycopg2\n",
    "%pip install pandas"
   ]
  },
  {
   "cell_type": "markdown",
   "id": "4f2965d5",
   "metadata": {},
   "source": [
    "Add import statements."
   ]
  },
  {
   "cell_type": "code",
   "execution_count": 1,
   "id": "c58b73ad",
   "metadata": {},
   "outputs": [],
   "source": [
    "import psycopg2\n",
    "from psycopg2 import sql"
   ]
  },
  {
   "cell_type": "markdown",
   "id": "89f39beb",
   "metadata": {},
   "source": [
    "Add database connection information. (Change according to your local situation, specifically, change the password.)"
   ]
  },
  {
   "cell_type": "code",
   "execution_count": 2,
   "id": "7595cd7b",
   "metadata": {},
   "outputs": [],
   "source": [
    "db_config = {\n",
    "        \"dbname\": \"prods\",           # CHANGE if you are using a different database\n",
    "        \"user\": \"postgres\",                \n",
    "        \"password\": \"password\",   # CHANGE to your password\n",
    "        \"host\": \"localhost\",            # or remote host IP address\n",
    "        \"port\": 5432                    # default Postgres port\n",
    "    }"
   ]
  },
  {
   "cell_type": "markdown",
   "id": "f903b4ec",
   "metadata": {},
   "source": [
    "Build query."
   ]
  },
  {
   "cell_type": "code",
   "execution_count": 3,
   "id": "37e3cb2e",
   "metadata": {},
   "outputs": [],
   "source": [
    "query = \"SELECT * FROM rep\""
   ]
  },
  {
   "cell_type": "markdown",
   "id": "0488de19",
   "metadata": {},
   "source": [
    "Connect and run query. (Note exception handling.)"
   ]
  },
  {
   "cell_type": "code",
   "execution_count": 4,
   "id": "2ea6ed14",
   "metadata": {},
   "outputs": [
    {
     "name": "stdout",
     "output_type": "stream",
     "text": [
      "('223', 'Roma', 'Theresa', '735 First', 'Leonard', 'GA', '23342', Decimal('21756.50'), Decimal('0.06'))\n",
      "('237', 'Miller', 'Fred', '643 High', 'Sheldon', 'GA', '23553', Decimal('38612.00'), Decimal('0.08'))\n",
      "('268', 'Rodriguez', 'Miguel', '2737 Tyler', 'Springfield', 'GA', '23342', Decimal('19774.00'), Decimal('0.06'))\n"
     ]
    }
   ],
   "source": [
    "try:\n",
    "    # Connect to PostgreSQL\n",
    "    conn = psycopg2.connect(**db_config)\n",
    "    cur = conn.cursor()\n",
    "\n",
    "    # Run the SQL query\n",
    "    cur.execute(query)\n",
    "\n",
    "    # If it's a SELECT, fetch results\n",
    "    if query.strip().lower().startswith(\"select\"):\n",
    "        result = cur.fetchall()\n",
    "        for row in result:\n",
    "            print(row)\n",
    "    else:\n",
    "        # Commit for INSERT/UPDATE/DELETE\n",
    "        conn.commit()\n",
    "        print(\"Query executed successfully.\")\n",
    "\n",
    "    # Close cursor and connection\n",
    "    cur.close()\n",
    "    conn.close()\n",
    "\n",
    "except Exception as e:\n",
    "    print(\"Error:\", e)"
   ]
  },
  {
   "cell_type": "markdown",
   "id": "17fc92f0",
   "metadata": {},
   "source": [
    "Better formatted data using Pandas DF."
   ]
  },
  {
   "cell_type": "code",
   "execution_count": 5,
   "id": "0a15d45e",
   "metadata": {},
   "outputs": [
    {
     "name": "stderr",
     "output_type": "stream",
     "text": [
      "/var/folders/2t/tt8wnk4n2s1_hpslcj1y5jj40000gn/T/ipykernel_50953/990575015.py:7: UserWarning: pandas only supports SQLAlchemy connectable (engine/connection) or database string URI or sqlite3 DBAPI2 connection. Other DBAPI2 objects are not tested. Please consider using SQLAlchemy.\n",
      "  return pd.read_sql_query(query, conn)\n"
     ]
    },
    {
     "data": {
      "text/html": [
       "<div>\n",
       "<style scoped>\n",
       "    .dataframe tbody tr th:only-of-type {\n",
       "        vertical-align: middle;\n",
       "    }\n",
       "\n",
       "    .dataframe tbody tr th {\n",
       "        vertical-align: top;\n",
       "    }\n",
       "\n",
       "    .dataframe thead th {\n",
       "        text-align: right;\n",
       "    }\n",
       "</style>\n",
       "<table border=\"1\" class=\"dataframe\">\n",
       "  <thead>\n",
       "    <tr style=\"text-align: right;\">\n",
       "      <th></th>\n",
       "      <th>cust_id</th>\n",
       "      <th>cust_name</th>\n",
       "      <th>cust_street</th>\n",
       "      <th>cust_city</th>\n",
       "      <th>cust_state</th>\n",
       "      <th>cust_zip</th>\n",
       "      <th>cust_balance</th>\n",
       "      <th>cust_limit</th>\n",
       "      <th>rep_id</th>\n",
       "    </tr>\n",
       "  </thead>\n",
       "  <tbody>\n",
       "    <tr>\n",
       "      <th>0</th>\n",
       "      <td>1159</td>\n",
       "      <td>Charles Appliance and Sport</td>\n",
       "      <td>3948 Brown</td>\n",
       "      <td>Leonard</td>\n",
       "      <td>GA</td>\n",
       "      <td>23342</td>\n",
       "      <td>5560.00</td>\n",
       "      <td>7500.0</td>\n",
       "      <td>223</td>\n",
       "    </tr>\n",
       "    <tr>\n",
       "      <th>1</th>\n",
       "      <td>1193</td>\n",
       "      <td>Streaming Direct</td>\n",
       "      <td>4938 Maple</td>\n",
       "      <td>Grove</td>\n",
       "      <td>GA</td>\n",
       "      <td>23321</td>\n",
       "      <td>210.40</td>\n",
       "      <td>10000.0</td>\n",
       "      <td>237</td>\n",
       "    </tr>\n",
       "    <tr>\n",
       "      <th>2</th>\n",
       "      <td>1367</td>\n",
       "      <td>Hollister's</td>\n",
       "      <td>493 Oakwood</td>\n",
       "      <td>Farmerville</td>\n",
       "      <td>GA</td>\n",
       "      <td>23146</td>\n",
       "      <td>6896.00</td>\n",
       "      <td>7500.0</td>\n",
       "      <td>268</td>\n",
       "    </tr>\n",
       "    <tr>\n",
       "      <th>3</th>\n",
       "      <td>1419</td>\n",
       "      <td>Everything Sports Shop</td>\n",
       "      <td>2939 Cardinal</td>\n",
       "      <td>Crystal</td>\n",
       "      <td>GA</td>\n",
       "      <td>23503</td>\n",
       "      <td>5396.36</td>\n",
       "      <td>5000.0</td>\n",
       "      <td>237</td>\n",
       "    </tr>\n",
       "    <tr>\n",
       "      <th>4</th>\n",
       "      <td>1462</td>\n",
       "      <td>Bargain House</td>\n",
       "      <td>4930 Main</td>\n",
       "      <td>Grove</td>\n",
       "      <td>GA</td>\n",
       "      <td>23321</td>\n",
       "      <td>4523.00</td>\n",
       "      <td>10000.0</td>\n",
       "      <td>268</td>\n",
       "    </tr>\n",
       "    <tr>\n",
       "      <th>5</th>\n",
       "      <td>1524</td>\n",
       "      <td>Jackson's</td>\n",
       "      <td>946 Second</td>\n",
       "      <td>Leonard</td>\n",
       "      <td>GA</td>\n",
       "      <td>23342</td>\n",
       "      <td>13817.00</td>\n",
       "      <td>15000.0</td>\n",
       "      <td>223</td>\n",
       "    </tr>\n",
       "    <tr>\n",
       "      <th>6</th>\n",
       "      <td>1619</td>\n",
       "      <td>Murray's Department Store</td>\n",
       "      <td>483 Cambridge</td>\n",
       "      <td>Sheldon</td>\n",
       "      <td>GA</td>\n",
       "      <td>23553</td>\n",
       "      <td>2217.00</td>\n",
       "      <td>10000.0</td>\n",
       "      <td>268</td>\n",
       "    </tr>\n",
       "    <tr>\n",
       "      <th>7</th>\n",
       "      <td>1687</td>\n",
       "      <td>Lawrence Sport and Appliance</td>\n",
       "      <td>393 Jefferson</td>\n",
       "      <td>Lafayette</td>\n",
       "      <td>GA</td>\n",
       "      <td>22543</td>\n",
       "      <td>3962.00</td>\n",
       "      <td>5000.0</td>\n",
       "      <td>237</td>\n",
       "    </tr>\n",
       "    <tr>\n",
       "      <th>8</th>\n",
       "      <td>1725</td>\n",
       "      <td>Dustin's All Seasons</td>\n",
       "      <td>171 Washington</td>\n",
       "      <td>Sheldon</td>\n",
       "      <td>GA</td>\n",
       "      <td>23553</td>\n",
       "      <td>359.00</td>\n",
       "      <td>7500.0</td>\n",
       "      <td>237</td>\n",
       "    </tr>\n",
       "    <tr>\n",
       "      <th>9</th>\n",
       "      <td>1842</td>\n",
       "      <td>Four Seasons Store</td>\n",
       "      <td>19 Front</td>\n",
       "      <td>Grove</td>\n",
       "      <td>GA</td>\n",
       "      <td>23321</td>\n",
       "      <td>8113.00</td>\n",
       "      <td>7500.0</td>\n",
       "      <td>223</td>\n",
       "    </tr>\n",
       "    <tr>\n",
       "      <th>10</th>\n",
       "      <td>1873</td>\n",
       "      <td>Suburban Appliance</td>\n",
       "      <td>128 High</td>\n",
       "      <td>Springfield</td>\n",
       "      <td>GA</td>\n",
       "      <td>23358</td>\n",
       "      <td>1257.50</td>\n",
       "      <td>5000.0</td>\n",
       "      <td>268</td>\n",
       "    </tr>\n",
       "  </tbody>\n",
       "</table>\n",
       "</div>"
      ],
      "text/plain": [
       "   cust_id                     cust_name     cust_street    cust_city  \\\n",
       "0     1159   Charles Appliance and Sport      3948 Brown      Leonard   \n",
       "1     1193              Streaming Direct      4938 Maple        Grove   \n",
       "2     1367                   Hollister's     493 Oakwood  Farmerville   \n",
       "3     1419        Everything Sports Shop   2939 Cardinal      Crystal   \n",
       "4     1462                 Bargain House       4930 Main        Grove   \n",
       "5     1524                     Jackson's      946 Second      Leonard   \n",
       "6     1619     Murray's Department Store   483 Cambridge      Sheldon   \n",
       "7     1687  Lawrence Sport and Appliance   393 Jefferson    Lafayette   \n",
       "8     1725          Dustin's All Seasons  171 Washington      Sheldon   \n",
       "9     1842            Four Seasons Store        19 Front        Grove   \n",
       "10    1873            Suburban Appliance        128 High  Springfield   \n",
       "\n",
       "   cust_state cust_zip  cust_balance  cust_limit rep_id  \n",
       "0          GA    23342       5560.00      7500.0    223  \n",
       "1          GA    23321        210.40     10000.0    237  \n",
       "2          GA    23146       6896.00      7500.0    268  \n",
       "3          GA    23503       5396.36      5000.0    237  \n",
       "4          GA    23321       4523.00     10000.0    268  \n",
       "5          GA    23342      13817.00     15000.0    223  \n",
       "6          GA    23553       2217.00     10000.0    268  \n",
       "7          GA    22543       3962.00      5000.0    237  \n",
       "8          GA    23553        359.00      7500.0    237  \n",
       "9          GA    23321       8113.00      7500.0    223  \n",
       "10         GA    23358       1257.50      5000.0    268  "
      ]
     },
     "execution_count": 5,
     "metadata": {},
     "output_type": "execute_result"
    }
   ],
   "source": [
    "import pandas as pd\n",
    "\n",
    "def read_sql_df(query: str) -> pd.DataFrame:\n",
    "    try:\n",
    "    # Connect to PostgreSQL\n",
    "        conn = psycopg2.connect(**db_config)\n",
    "        return pd.read_sql_query(query, conn)\n",
    "        \n",
    "    except Exception as e:\n",
    "        print(\"Error:\", e)\n",
    "\n",
    "df = read_sql_df(\"SELECT * FROM customer\")\n",
    "df"
   ]
  },
  {
   "cell_type": "markdown",
   "id": "8d3a950a",
   "metadata": {},
   "source": []
  },
  {
   "cell_type": "code",
   "execution_count": null,
   "id": "b2f4cdac",
   "metadata": {},
   "outputs": [],
   "source": [
    "def run_query_dicts(query: str):\n",
    "    try:\n",
    "    # Connect to PostgreSQL\n",
    "        conn = psycopg2.connect(**db_config)\n",
    "        with conn.cursor(cursor_factory=RealDictCursor) as cur:\n",
    "            cur.execute(query)\n",
    "            if query.strip().lower().startswith('select'):\n",
    "                return cur.fetchall()\n",
    "            else:\n",
    "                conn.commit()\n",
    "                return f\"{cur.rowcount} row(s) affected.\"\n",
    "    except Exception as e:\n",
    "        print(\"Error:\", e)\n",
    "run_query_dicts(\"SELECT * FROM product\")"
   ]
  }
 ],
 "metadata": {
  "kernelspec": {
   "display_name": ".venv",
   "language": "python",
   "name": "python3"
  },
  "language_info": {
   "codemirror_mode": {
    "name": "ipython",
    "version": 3
   },
   "file_extension": ".py",
   "mimetype": "text/x-python",
   "name": "python",
   "nbconvert_exporter": "python",
   "pygments_lexer": "ipython3",
   "version": "3.13.4"
  }
 },
 "nbformat": 4,
 "nbformat_minor": 5
}
